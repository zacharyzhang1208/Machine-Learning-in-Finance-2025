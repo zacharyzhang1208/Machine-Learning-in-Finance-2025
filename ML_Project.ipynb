{
  "nbformat": 4,
  "nbformat_minor": 0,
  "metadata": {
    "colab": {
      "provenance": []
    },
    "kernelspec": {
      "name": "python3",
      "display_name": "Python 3"
    },
    "language_info": {
      "name": "python"
    }
  },
  "cells": [
    {
      "cell_type": "markdown",
      "source": [
        "**传统机器学习模型选择**"
      ],
      "metadata": {
        "id": "reITPIgoI-BO"
      }
    },
    {
      "cell_type": "code",
      "execution_count": null,
      "metadata": {
        "collapsed": true,
        "id": "beYVB_jaE7QS"
      },
      "outputs": [],
      "source": [
        "import pandas as pd\n",
        "import numpy as np\n",
        "import matplotlib.pyplot as plt\n",
        "import seaborn as sns\n",
        "import warnings\n",
        "\n",
        "from sklearn.svm import SVC\n",
        "from sklearn.tree import DecisionTreeClassifier\n",
        "from sklearn.ensemble import RandomForestClassifier\n",
        "from sklearn.ensemble import AdaBoostClassifier\n",
        "from sklearn.neighbors import KNeighborsClassifier\n",
        "from sklearn.naive_bayes import GaussianNB\n",
        "from sklearn.neural_network import MLPClassifier\n",
        "from sklearn.linear_model import LogisticRegression\n",
        "\n",
        "def model_choice(user_input):\n",
        "  if user_input == 1:\n",
        "    # SVM\n",
        "    model = SVC()\n",
        "    return model\n",
        "  elif user_input == 2:\n",
        "    # Decision Tree\n",
        "    model = DecisionTreeClassifier()\n",
        "    return model\n",
        "  elif user_input == 3:\n",
        "    # Random Forest\n",
        "    model = RandomForestClassifier()\n",
        "    return model\n",
        "  elif user_input == 4:\n",
        "    # Adaptive Boosting Classifer\n",
        "    model = AdaBoostClassifier()\n",
        "    return model\n",
        "  elif user_input == 5:\n",
        "    # KNN\n",
        "    model = KNeighborsClassifier()\n",
        "    return model\n",
        "  elif user_input == 6:\n",
        "    # Naïve Bayes\n",
        "    model = GaussianNB()\n",
        "    return model\n",
        "  elif user_input == 7:\n",
        "    # MLP\n",
        "    model = MLPClassifier(hidden_layer_sizes=(20,20),learning_rate_init=0.1)\n",
        "    return model\n",
        "  elif user_input == 8:\n",
        "    # Logistic Regression\n",
        "    model = LogisticRegression()\n",
        "    return model\n",
        "  else:\n",
        "    return None\n"
      ]
    },
    {
      "cell_type": "markdown",
      "source": [
        "**训练集与验证集读取**"
      ],
      "metadata": {
        "id": "M8__UP08PX0R"
      }
    },
    {
      "cell_type": "code",
      "source": [
        "  from google.colab import drive\n",
        "  from sklearn.exceptions import ConvergenceWarning\n",
        "\n",
        "  drive.mount('/content/gdrive')\n",
        "  trainset_path = \"/content/gdrive/My Drive/Machine Learning Project/train_data.csv\"\n",
        "  test_path = \"/content/gdrive/My Drive/Machine Learning Project/test_data.csv\"\n",
        "  trainset = pd.read_csv(trainset_path)\n",
        "  testset = pd.read_csv(validation_path)\n",
        "\n",
        "  trainset.info()\n",
        "  testset.info()\n",
        "\n",
        "  # Ignore the warning that the model has not converged.\n",
        "  warnings.filterwarnings(\"ignore\", category=ConvergenceWarning)\n",
        "\n",
        "  # Training Set Data Preprocessing\n",
        "  trainset.fillna(trainset.mean(), inplace=True)\n",
        "  X_train = trainset.drop(['Status'], axis=1)\n",
        "  Y_train = trainset['Status']\n",
        "\n",
        "  # validation dataset preprocessing\n",
        "  testset.fillna(testset.mean(), inplace=True)\n",
        "  X_test = testset.drop(['Status'],axis=1)\n",
        "  Y_test = testset['Status']"
      ],
      "metadata": {
        "colab": {
          "base_uri": "https://localhost:8080/"
        },
        "collapsed": true,
        "id": "M7pADicFJS7y",
        "outputId": "f1114ff2-e0df-4e96-fcd5-bfde02907aba"
      },
      "execution_count": null,
      "outputs": [
        {
          "output_type": "stream",
          "name": "stdout",
          "text": [
            "Drive already mounted at /content/gdrive; to attempt to forcibly remount, call drive.mount(\"/content/gdrive\", force_remount=True).\n",
            "<class 'pandas.core.frame.DataFrame'>\n",
            "RangeIndex: 112659 entries, 0 to 112658\n",
            "Data columns (total 34 columns):\n",
            " #   Column             Non-Null Count   Dtype  \n",
            "---  ------             --------------   -----  \n",
            " 0   loan_amount        112659 non-null  int64  \n",
            " 1   term               112659 non-null  float64\n",
            " 2   Credit_Score       112659 non-null  int64  \n",
            " 3   ncf                112659 non-null  bool   \n",
            " 4   Joint              112659 non-null  bool   \n",
            " 5   Male               112659 non-null  bool   \n",
            " 6   Sex Not Available  112659 non-null  bool   \n",
            " 7   pre                112659 non-null  bool   \n",
            " 8   type3              112659 non-null  bool   \n",
            " 9   p2                 112659 non-null  bool   \n",
            " 10  p3                 112659 non-null  bool   \n",
            " 11  p4                 112659 non-null  bool   \n",
            " 12  l2                 112659 non-null  bool   \n",
            " 13  nob/c              112659 non-null  bool   \n",
            " 14  not_neg            112659 non-null  bool   \n",
            " 15  not_int            112659 non-null  bool   \n",
            " 16  not_lpsm           112659 non-null  bool   \n",
            " 17  pr                 112659 non-null  bool   \n",
            " 18  sr                 112659 non-null  bool   \n",
            " 19  CRIF               112659 non-null  bool   \n",
            " 20  EQUI               112659 non-null  bool   \n",
            " 21  EXP                112659 non-null  bool   \n",
            " 22  EXP.1              112659 non-null  bool   \n",
            " 23  35-44              112659 non-null  bool   \n",
            " 24  45-54              112659 non-null  bool   \n",
            " 25  55-64              112659 non-null  bool   \n",
            " 26  65-74              112659 non-null  bool   \n",
            " 27  <25                112659 non-null  bool   \n",
            " 28  >74                112659 non-null  bool   \n",
            " 29  to_inst            112659 non-null  bool   \n",
            " 30  North-East         112659 non-null  bool   \n",
            " 31  central            112659 non-null  bool   \n",
            " 32  south              112659 non-null  bool   \n",
            " 33  Status             112659 non-null  int64  \n",
            "dtypes: bool(30), float64(1), int64(3)\n",
            "memory usage: 6.7 MB\n",
            "<class 'pandas.core.frame.DataFrame'>\n",
            "RangeIndex: 19881 entries, 0 to 19880\n",
            "Data columns (total 34 columns):\n",
            " #   Column             Non-Null Count  Dtype  \n",
            "---  ------             --------------  -----  \n",
            " 0   loan_amount        19881 non-null  int64  \n",
            " 1   term               19881 non-null  float64\n",
            " 2   Credit_Score       19881 non-null  int64  \n",
            " 3   ncf                19881 non-null  bool   \n",
            " 4   Joint              19881 non-null  bool   \n",
            " 5   Male               19881 non-null  bool   \n",
            " 6   Sex Not Available  19881 non-null  bool   \n",
            " 7   pre                19881 non-null  bool   \n",
            " 8   type3              19881 non-null  bool   \n",
            " 9   p2                 19881 non-null  bool   \n",
            " 10  p3                 19881 non-null  bool   \n",
            " 11  p4                 19881 non-null  bool   \n",
            " 12  l2                 19881 non-null  bool   \n",
            " 13  nob/c              19881 non-null  bool   \n",
            " 14  not_neg            19881 non-null  bool   \n",
            " 15  not_int            19881 non-null  bool   \n",
            " 16  not_lpsm           19881 non-null  bool   \n",
            " 17  pr                 19881 non-null  bool   \n",
            " 18  sr                 19881 non-null  bool   \n",
            " 19  CRIF               19881 non-null  bool   \n",
            " 20  EQUI               19881 non-null  bool   \n",
            " 21  EXP                19881 non-null  bool   \n",
            " 22  EXP.1              19881 non-null  bool   \n",
            " 23  35-44              19881 non-null  bool   \n",
            " 24  45-54              19881 non-null  bool   \n",
            " 25  55-64              19881 non-null  bool   \n",
            " 26  65-74              19881 non-null  bool   \n",
            " 27  <25                19881 non-null  bool   \n",
            " 28  >74                19881 non-null  bool   \n",
            " 29  to_inst            19881 non-null  bool   \n",
            " 30  North-East         19881 non-null  bool   \n",
            " 31  central            19881 non-null  bool   \n",
            " 32  south              19881 non-null  bool   \n",
            " 33  Status             19881 non-null  int64  \n",
            "dtypes: bool(30), float64(1), int64(3)\n",
            "memory usage: 1.2 MB\n"
          ]
        }
      ]
    },
    {
      "cell_type": "markdown",
      "source": [
        "**模型选择与预测**"
      ],
      "metadata": {
        "id": "fLaQ_Sx8OY1-"
      }
    },
    {
      "cell_type": "code",
      "source": [
        "  from sklearn.metrics import classification_report\n",
        "  from sklearn.metrics import confusion_matrix\n",
        "  from sklearn.metrics import ConfusionMatrixDisplay\n",
        "  # from sklearn.metrics import plot_roc_curve\n",
        "\n",
        "  while True:\n",
        "    print(\"Choose the model ：\\n1、SVM\\n2、Decision Tree\\n3、Random Forest\\n4、AdaBoostClassifer\\n5、KNN\\n6、Naïve Bayes\\n7、MLP\\n8、Logistic Regression\")\n",
        "    user_input = int(input())\n",
        "\n",
        "    model = model_choice(user_input)\n",
        "\n",
        "    # Check if the user_input is valid.\n",
        "    if model == None:\n",
        "      print(\"Your choice is invalid. Please repeat input.\\n\")\n",
        "    else:\n",
        "      # Train the model\n",
        "      model.fit(X_train, Y_train)\n",
        "      predict_test = model.predict(X_test)\n",
        "\n",
        "      print(\"score for the training set :\", model.score(X_train, Y_train))\n",
        "      print(\"score for the test set :\", model.score(X_test, Y_test))\n",
        "      print(classification_report(Y_test, predict_test))\n",
        "\n",
        "      labels = [\"Status 0\", \"Status 1\"]\n",
        "      M = confusion_matrix(Y_test, predict_test)\n",
        "      disp = ConfusionMatrixDisplay(confusion_matrix=M, display_labels=labels)\n",
        "      disp.plot(cmap=plt.cm.YlGn)\n",
        "      plt.show()\n",
        "\n",
        "      break # 退出"
      ],
      "metadata": {
        "colab": {
          "base_uri": "https://localhost:8080/",
          "height": 814
        },
        "id": "Rw2qkfFVOd7_",
        "outputId": "f0fa96d3-3086-452f-9353-2015b9ac5cb4"
      },
      "execution_count": null,
      "outputs": [
        {
          "output_type": "stream",
          "name": "stdout",
          "text": [
            "Choose the model ：\n",
            "1、SVM\n",
            "2、Decision Tree\n",
            "3、Random Forest\n",
            "4、AdaBoostClassifer\n",
            "5、KNN\n",
            "6、Naïve Bayes\n",
            "7、MLP\n",
            "8、Logistic Regression\n",
            "3\n",
            "score for the training set : 0.9999201129070913\n",
            "score for the test set : 0.9128816457924651\n",
            "              precision    recall  f1-score   support\n",
            "\n",
            "           0       0.93      0.89      0.91      9927\n",
            "           1       0.89      0.94      0.92      9954\n",
            "\n",
            "    accuracy                           0.91     19881\n",
            "   macro avg       0.91      0.91      0.91     19881\n",
            "weighted avg       0.91      0.91      0.91     19881\n",
            "\n"
          ]
        },
        {
          "output_type": "display_data",
          "data": {
            "text/plain": [
              "<Figure size 640x480 with 2 Axes>"
            ],
            "image/png": "[encoded data removed]"
          },
          "metadata": {}
        }
      ]
    }
  ]
}